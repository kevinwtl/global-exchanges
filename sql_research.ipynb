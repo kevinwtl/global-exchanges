{
 "cells": [
  {
   "cell_type": "code",
   "execution_count": 1,
   "metadata": {},
   "outputs": [],
   "source": [
    "from CCASS import DataScraper\n",
    "from datetime import datetime\n",
    "from datetime import date, datetime, timedelta\n",
    "import pandas as pd\n",
    "import requests\n",
    "from bs4 import BeautifulSoup\n",
    "import sqlite3\n",
    "from threading import Lock\n",
    "from concurrent.futures import ThreadPoolExecutor\n",
    "from ratelimit import limits, sleep_and_retry\n",
    "import numpy as np\n",
    "from tqdm import tqdm\n"
   ]
  },
  {
   "cell_type": "code",
   "execution_count": 3,
   "metadata": {},
   "outputs": [
    {
     "name": "stderr",
     "output_type": "stream",
     "text": [
      "  0%|          | 0/3 [00:00<?, ?it/s]"
     ]
    },
    {
     "name": "stdout",
     "output_type": "stream",
     "text": [
      "   ticker settle_date  issued_shrs  mkt_intermed  non_consent_inv  \\\n",
      "0    2060  2023-03-10    808880000     808836800             3000   \n",
      "\n",
      "   shrs_in_ccass  \n",
      "0      808839800  \n"
     ]
    },
    {
     "name": "stderr",
     "output_type": "stream",
     "text": []
    },
    {
     "name": "stdout",
     "output_type": "stream",
     "text": [
      "   ticker settle_date  issued_shrs  mkt_intermed  non_consent_inv  \\\n",
      "0    3738  2023-03-10   2232803656    2026533695            29000   \n",
      "\n",
      "   shrs_in_ccass  \n",
      "0     2026562695  \n"
     ]
    },
    {
     "name": "stderr",
     "output_type": "stream",
     "text": []
    },
    {
     "name": "stdout",
     "output_type": "stream",
     "text": [
      "   ticker settle_date  issued_shrs  mkt_intermed  consent_inv  \\\n",
      "0       5  2023-03-10  20296552779    8724985207       655132   \n",
      "\n",
      "   non_consent_inv  shrs_in_ccass  \n",
      "0         78814753     8804455092  \n"
     ]
    },
    {
     "name": "stderr",
     "output_type": "stream",
     "text": [
      "100%|██████████| 3/3 [00:03<00:00,  1.11s/it]\n",
      " 33%|███▎      | 1/3 [00:03<00:06,  3.34s/it]"
     ]
    },
    {
     "name": "stdout",
     "output_type": "stream",
     "text": [
      "   ticker settle_date  issued_shrs  mkt_intermed  non_consent_inv  \\\n",
      "0    2060  2023-03-09    808880000     808836800             3000   \n",
      "\n",
      "   shrs_in_ccass  \n",
      "0      808839800  \n"
     ]
    },
    {
     "name": "stderr",
     "output_type": "stream",
     "text": []
    },
    {
     "name": "stdout",
     "output_type": "stream",
     "text": [
      "   ticker settle_date  issued_shrs  mkt_intermed  non_consent_inv  \\\n",
      "0    3738  2023-03-09   2232803656    2026533695            29000   \n",
      "\n",
      "   shrs_in_ccass  \n",
      "0     2026562695  \n"
     ]
    },
    {
     "name": "stderr",
     "output_type": "stream",
     "text": []
    },
    {
     "name": "stdout",
     "output_type": "stream",
     "text": [
      "   ticker settle_date  issued_shrs  mkt_intermed  consent_inv  \\\n",
      "0       5  2023-03-09  20296552779    8734240886       655132   \n",
      "\n",
      "   non_consent_inv  shrs_in_ccass  \n",
      "0         78815938     8813711956  \n"
     ]
    },
    {
     "name": "stderr",
     "output_type": "stream",
     "text": [
      "100%|██████████| 3/3 [00:03<00:00,  1.25s/it]\n",
      " 67%|██████▋   | 2/3 [00:07<00:03,  3.59s/it]"
     ]
    },
    {
     "name": "stdout",
     "output_type": "stream",
     "text": [
      "   ticker settle_date  issued_shrs  mkt_intermed  non_consent_inv  \\\n",
      "0    2060  2023-03-08    808880000     808836800             3000   \n",
      "\n",
      "   shrs_in_ccass  \n",
      "0      808839800  \n"
     ]
    },
    {
     "name": "stderr",
     "output_type": "stream",
     "text": []
    },
    {
     "name": "stdout",
     "output_type": "stream",
     "text": [
      "   ticker settle_date  issued_shrs  mkt_intermed  non_consent_inv  \\\n",
      "0    3738  2023-03-08   2232803656    2026533695            29000   \n",
      "\n",
      "   shrs_in_ccass  \n",
      "0     2026562695  \n"
     ]
    },
    {
     "name": "stderr",
     "output_type": "stream",
     "text": []
    },
    {
     "name": "stdout",
     "output_type": "stream",
     "text": [
      "   ticker settle_date  issued_shrs  mkt_intermed  consent_inv  \\\n",
      "0       5  2023-03-08  20296552779    8744692534       655132   \n",
      "\n",
      "   non_consent_inv  shrs_in_ccass  \n",
      "0         78815938     8824163604  \n"
     ]
    },
    {
     "name": "stderr",
     "output_type": "stream",
     "text": [
      "100%|██████████| 3/3 [00:03<00:00,  1.21s/it]\n",
      "100%|██████████| 3/3 [00:10<00:00,  3.58s/it]\n"
     ]
    }
   ],
   "source": [
    "scraper = DataScraper('optimal_db.db',3,[2060,3738,5])\n",
    "scraper.run()\n"
   ]
  },
  {
   "cell_type": "code",
   "execution_count": 2,
   "metadata": {},
   "outputs": [
    {
     "data": {
      "text/plain": [
       "<sqlite3.Cursor at 0x266e4c181c0>"
      ]
     },
     "execution_count": 2,
     "metadata": {},
     "output_type": "execute_result"
    }
   ],
   "source": [
    "db = sqlite3.connect('optimal_db.db')\n",
    "cur = db.cursor()\n",
    "\n",
    "# Create Table\n",
    "\n",
    "SQL = \"\"\"\n",
    "CREATE TABLE \"holdings\" (\n",
    "ticker SMALLINT NOT NULL,\n",
    "settle_date DATE NOT NULL,\n",
    "ccass_id TEXT,\n",
    "shareholding INTEGER,\n",
    "pct_shareholding REAL,\n",
    "PRIMARY KEY (ticker, settle_date, ccass_id)\n",
    ")\"\"\"\n",
    "cur.execute(SQL)\n",
    "\n",
    "# Create Table\n",
    "\n",
    "SQL = \"\"\"\n",
    "CREATE TABLE \"summary\" (\n",
    "ticker SMALLINT NOT NULL,\n",
    "settle_date DATE NOT NULL,\n",
    "issued_shrs INTEGER NOT NULL,\n",
    "mkt_intermed INTEGER,\n",
    "consent_inv INTEGER,\n",
    "non_consent_inv INTEGER,\n",
    "shrs_in_ccass INTEGER NOT NULL,\n",
    "PRIMARY KEY (ticker, settle_date)\n",
    ")\"\"\"\n",
    "cur.execute(SQL)"
   ]
  },
  {
   "cell_type": "code",
   "execution_count": 5,
   "metadata": {},
   "outputs": [
    {
     "data": {
      "text/plain": [
       "<sqlite3.Cursor at 0x27e1b928fc0>"
      ]
     },
     "execution_count": 5,
     "metadata": {},
     "output_type": "execute_result"
    }
   ],
   "source": []
  },
  {
   "cell_type": "code",
   "execution_count": 3,
   "metadata": {},
   "outputs": [
    {
     "data": {
      "text/plain": [
       "<sqlite3.Cursor at 0x17e1642b540>"
      ]
     },
     "execution_count": 3,
     "metadata": {},
     "output_type": "execute_result"
    }
   ],
   "source": []
  },
  {
   "cell_type": "code",
   "execution_count": 6,
   "metadata": {},
   "outputs": [
    {
     "data": {
      "text/plain": [
       "<sqlite3.Cursor at 0x27e1b928fc0>"
      ]
     },
     "execution_count": 6,
     "metadata": {},
     "output_type": "execute_result"
    }
   ],
   "source": []
  },
  {
   "cell_type": "code",
   "execution_count": null,
   "metadata": {},
   "outputs": [],
   "source": []
  }
 ],
 "metadata": {
  "kernelspec": {
   "display_name": "Python 3",
   "language": "python",
   "name": "python3"
  },
  "language_info": {
   "codemirror_mode": {
    "name": "ipython",
    "version": 3
   },
   "file_extension": ".py",
   "mimetype": "text/x-python",
   "name": "python",
   "nbconvert_exporter": "python",
   "pygments_lexer": "ipython3",
   "version": "3.10.5"
  },
  "orig_nbformat": 4
 },
 "nbformat": 4,
 "nbformat_minor": 2
}
